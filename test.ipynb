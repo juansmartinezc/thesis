{
 "cells": [
  {
   "cell_type": "code",
   "execution_count": 2,
   "id": "e369be8c",
   "metadata": {},
   "outputs": [
    {
     "name": "stdout",
     "output_type": "stream",
     "text": [
      "Total de ubicaciones únicas con faltantes: 24964\n",
      "→ Consultando (17.71833, -64.79518) en 2008 para meses: [9, 10]\n",
      "Consultando URL: https://power.larc.nasa.gov/api/temporal/monthly/point?parameters=T2M_MAX,T2M_MIN,T2M,PRECTOTCORR,WS10M,RH2M&community=ag&longitude=-64.79518&latitude=17.71833&start=2008&end=2008&format=JSON\n"
     ]
    },
    {
     "ename": "KeyError",
     "evalue": "'RH2M'",
     "output_type": "error",
     "traceback": [
      "\u001b[31m---------------------------------------------------------------------------\u001b[39m",
      "\u001b[31mKeyError\u001b[39m                                  Traceback (most recent call last)",
      "\u001b[36mCell\u001b[39m\u001b[36m \u001b[39m\u001b[32mIn[2]\u001b[39m\u001b[32m, line 5\u001b[39m\n\u001b[32m      3\u001b[39m source_dir_data = \u001b[33m'\u001b[39m\u001b[33msource_data\u001b[39m\u001b[33m'\u001b[39m\n\u001b[32m      4\u001b[39m historical_monthly_climate_data_apr_sept_by_scan_stations = pd.read_csv(\u001b[33mf\u001b[39m\u001b[33m'\u001b[39m\u001b[38;5;132;01m{\u001b[39;00msource_dir_data\u001b[38;5;132;01m}\u001b[39;00m\u001b[33m/historical_monthly_climate_data_apr_sept_by_scan_stations.csv\u001b[39m\u001b[33m'\u001b[39m)\n\u001b[32m----> \u001b[39m\u001b[32m5\u001b[39m historical_monthly_climate_data_apr_sept_by_scan_stations = \u001b[43mget_climate_missing_values\u001b[49m\u001b[43m(\u001b[49m\u001b[43mhistorical_monthly_climate_data_apr_sept_by_scan_stations\u001b[49m\u001b[43m)\u001b[49m\n\u001b[32m      6\u001b[39m save_climate_missing_values(historical_monthly_climate_data_apr_sept_by_scan_stations)\n",
      "\u001b[36mFile \u001b[39m\u001b[32mc:\\Users\\juans\\Documents\\Thesis\\2025\\USDA\\data\\get_nasa.py:78\u001b[39m, in \u001b[36mget_climate_missing_values\u001b[39m\u001b[34m(df)\u001b[39m\n\u001b[32m     76\u001b[39m months_needed = group[\u001b[33m'\u001b[39m\u001b[33mmonth\u001b[39m\u001b[33m'\u001b[39m].tolist()\n\u001b[32m     77\u001b[39m \u001b[38;5;28mprint\u001b[39m(\u001b[33mf\u001b[39m\u001b[33m\"\u001b[39m\u001b[33m→ Consultando (\u001b[39m\u001b[38;5;132;01m{\u001b[39;00mlat\u001b[38;5;132;01m}\u001b[39;00m\u001b[33m, \u001b[39m\u001b[38;5;132;01m{\u001b[39;00mlon\u001b[38;5;132;01m}\u001b[39;00m\u001b[33m) en \u001b[39m\u001b[38;5;132;01m{\u001b[39;00myear\u001b[38;5;132;01m}\u001b[39;00m\u001b[33m para meses: \u001b[39m\u001b[38;5;132;01m{\u001b[39;00mmonths_needed\u001b[38;5;132;01m}\u001b[39;00m\u001b[33m\"\u001b[39m)\n\u001b[32m---> \u001b[39m\u001b[32m78\u001b[39m result = \u001b[43mget_nasa_data\u001b[49m\u001b[43m(\u001b[49m\u001b[43mlat\u001b[49m\u001b[43m,\u001b[49m\u001b[43m \u001b[49m\u001b[43mlon\u001b[49m\u001b[43m,\u001b[49m\u001b[43m \u001b[49m\u001b[43myear\u001b[49m\u001b[43m,\u001b[49m\u001b[43m \u001b[49m\u001b[43mmonths_needed\u001b[49m\u001b[43m)\u001b[49m\n\u001b[32m     80\u001b[39m \u001b[38;5;28;01mif\u001b[39;00m result:\n\u001b[32m     81\u001b[39m     climate_data.extend(result)\n",
      "\u001b[36mFile \u001b[39m\u001b[32mc:\\Users\\juans\\Documents\\Thesis\\2025\\USDA\\data\\get_nasa.py:52\u001b[39m, in \u001b[36mget_nasa_data\u001b[39m\u001b[34m(lat, lon, year, months_needed)\u001b[39m\n\u001b[32m     40\u001b[39m \u001b[38;5;28;01mfor\u001b[39;00m month \u001b[38;5;129;01min\u001b[39;00m months_needed:\n\u001b[32m     41\u001b[39m     key = \u001b[33mf\u001b[39m\u001b[33m\"\u001b[39m\u001b[38;5;132;01m{\u001b[39;00myear\u001b[38;5;132;01m}\u001b[39;00m\u001b[38;5;132;01m{\u001b[39;00m\u001b[38;5;28mstr\u001b[39m(month).zfill(\u001b[32m2\u001b[39m)\u001b[38;5;132;01m}\u001b[39;00m\u001b[33m\"\u001b[39m\n\u001b[32m     42\u001b[39m     result.append({\n\u001b[32m     43\u001b[39m     \u001b[33m\"\u001b[39m\u001b[33mlatitude\u001b[39m\u001b[33m\"\u001b[39m: lat,\n\u001b[32m     44\u001b[39m     \u001b[33m\"\u001b[39m\u001b[33mlongitude\u001b[39m\u001b[33m\"\u001b[39m: lon,\n\u001b[32m     45\u001b[39m     \u001b[33m\"\u001b[39m\u001b[33myear\u001b[39m\u001b[33m\"\u001b[39m: \u001b[38;5;28mint\u001b[39m(year),\n\u001b[32m     46\u001b[39m     \u001b[33m\"\u001b[39m\u001b[33mmonth\u001b[39m\u001b[33m\"\u001b[39m: \u001b[38;5;28mint\u001b[39m(month),\n\u001b[32m     47\u001b[39m     api_to_df_cols[\u001b[33m'\u001b[39m\u001b[33mT2M_MAX\u001b[39m\u001b[33m'\u001b[39m]: data.get(\u001b[33m\"\u001b[39m\u001b[33mT2M_MAX\u001b[39m\u001b[33m\"\u001b[39m, {}).get(key),\n\u001b[32m     48\u001b[39m     api_to_df_cols[\u001b[33m'\u001b[39m\u001b[33mT2M_MIN\u001b[39m\u001b[33m'\u001b[39m]: data.get(\u001b[33m\"\u001b[39m\u001b[33mT2M_MIN\u001b[39m\u001b[33m\"\u001b[39m, {}).get(key),\n\u001b[32m     49\u001b[39m     api_to_df_cols[\u001b[33m'\u001b[39m\u001b[33mT2M\u001b[39m\u001b[33m'\u001b[39m]: data.get(\u001b[33m\"\u001b[39m\u001b[33mT2M\u001b[39m\u001b[33m\"\u001b[39m, {}).get(key),\n\u001b[32m     50\u001b[39m     api_to_df_cols[\u001b[33m'\u001b[39m\u001b[33mPRECTOTCORR\u001b[39m\u001b[33m'\u001b[39m]: data.get(\u001b[33m\"\u001b[39m\u001b[33mPRECTOTCORR\u001b[39m\u001b[33m\"\u001b[39m, {}).get(key),\n\u001b[32m     51\u001b[39m     api_to_df_cols[\u001b[33m'\u001b[39m\u001b[33mWS10M\u001b[39m\u001b[33m'\u001b[39m]: data.get(\u001b[33m\"\u001b[39m\u001b[33mWS10M\u001b[39m\u001b[33m\"\u001b[39m, {}).get(key),\n\u001b[32m---> \u001b[39m\u001b[32m52\u001b[39m     \u001b[43mapi_to_df_cols\u001b[49m\u001b[43m[\u001b[49m\u001b[33;43m'\u001b[39;49m\u001b[33;43mRH2M\u001b[39;49m\u001b[33;43m'\u001b[39;49m\u001b[43m]\u001b[49m: data.get(\u001b[33m\"\u001b[39m\u001b[33mRH2M\u001b[39m\u001b[33m\"\u001b[39m, {}).get(key)\n\u001b[32m     53\u001b[39m })\n\u001b[32m     55\u001b[39m \u001b[38;5;28;01mreturn\u001b[39;00m result\n",
      "\u001b[31mKeyError\u001b[39m: 'RH2M'"
     ]
    }
   ],
   "source": [
    "import pandas as pd\n",
    "from data.get_nasa import get_climate_missing_values, save_climate_missing_values\n",
    "source_dir_data = 'source_data'\n",
    "historical_monthly_climate_data_apr_sept_by_scan_stations = pd.read_csv(f'{source_dir_data}/historical_monthly_climate_data_apr_sept_by_scan_stations.csv')\n",
    "historical_monthly_climate_data_apr_sept_by_scan_stations = get_climate_missing_values(historical_monthly_climate_data_apr_sept_by_scan_stations)\n",
    "save_climate_missing_values(historical_monthly_climate_data_apr_sept_by_scan_stations)\n"
   ]
  }
 ],
 "metadata": {
  "kernelspec": {
   "display_name": "plot_venv",
   "language": "python",
   "name": "python3"
  },
  "language_info": {
   "codemirror_mode": {
    "name": "ipython",
    "version": 3
   },
   "file_extension": ".py",
   "mimetype": "text/x-python",
   "name": "python",
   "nbconvert_exporter": "python",
   "pygments_lexer": "ipython3",
   "version": "3.11.9"
  }
 },
 "nbformat": 4,
 "nbformat_minor": 5
}
