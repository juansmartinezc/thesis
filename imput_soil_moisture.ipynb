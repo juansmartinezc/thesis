{
 "cells": [
  {
   "cell_type": "code",
   "execution_count": null,
   "id": "9aa6d42d",
   "metadata": {},
   "outputs": [
    {
     "data": {
      "text/plain": [
       "'\\n# --- 3. Fallback climatológico (stationId‑mes) -------------------------------\\ndf[\"SMS_-8\"] = df[\"SMS_-8_interp\"].fillna(\\n    df.groupby([\"stationId\", \"month\"])[\"SMS_-8_interp\"].transform(\"mean\")\\n)\\n\\ndf = df.drop(columns=[\"SMS_-8_interp\"])\\ndf.to_csv(\"/mnt/data/soil_moisture_imputed.csv\", index=False)\\n'"
      ]
     },
     "execution_count": 4,
     "metadata": {},
     "output_type": "execute_result"
    }
   ],
   "source": [
    "import pandas as pd\n",
    "\n",
    "# --- 1. Preparación ----------------------------------------------------------\n",
    "df = pd.read_csv(\"df_nasa.csv\")\n",
    "df[\"date\"] = pd.to_datetime(dict(year=df[\"year\"], month=df[\"month\"], day=1))\n",
    "df = df.sort_values([\"stationId\", \"date\"])\n",
    "\n",
    "# --- 2. Interpolación lineal dentro de cada estación -------------------------\n",
    "df[\"SMS_-8_interp\"] = (\n",
    "    df.groupby(\"stationId\", group_keys=False)[\"SMS_-8\"]\n",
    "      .apply(lambda s: s.interpolate(method=\"linear\", limit_direction=\"both\"))\n",
    ")\n",
    "\n",
    "'''\n",
    "# --- 3. Fallback climatológico (stationId‑mes) -------------------------------\n",
    "df[\"SMS_-8\"] = df[\"SMS_-8_interp\"].fillna(\n",
    "    df.groupby([\"stationId\", \"month\"])[\"SMS_-8_interp\"].transform(\"mean\")\n",
    ")\n",
    "\n",
    "df = df.drop(columns=[\"SMS_-8_interp\"])\n",
    "df.to_csv(\"/mnt/data/soil_moisture_imputed.csv\", index=False)\n",
    "'''\n"
   ]
  },
  {
   "cell_type": "code",
   "execution_count": 5,
   "id": "27048e3d",
   "metadata": {},
   "outputs": [
    {
     "data": {
      "text/plain": [
       "Unnamed: 0            0\n",
       "state_name            0\n",
       "county_name           0\n",
       "state_alpha           0\n",
       "county_code           0\n",
       "month                 0\n",
       "year                  0\n",
       "stationTriplet        0\n",
       "stationId             0\n",
       "name                  0\n",
       "lat_centroid          0\n",
       "lon_centroid          0\n",
       "TMAX                  0\n",
       "TMIN                  0\n",
       "phh2o               348\n",
       "ocd                 348\n",
       "cec                 348\n",
       "sand                348\n",
       "silt                348\n",
       "clay                348\n",
       "PRCP                  0\n",
       "SMS_-2            13960\n",
       "SMS_-4            10298\n",
       "SMS_-8            12743\n",
       "SMS_-20           14144\n",
       "SMS_-40           14958\n",
       "TAVG              16573\n",
       "Value                 0\n",
       "unit_desc             0\n",
       "date                  0\n",
       "SMS_-8_interp         0\n",
       "dtype: int64"
      ]
     },
     "execution_count": 5,
     "metadata": {},
     "output_type": "execute_result"
    }
   ],
   "source": [
    "df.isna().sum()"
   ]
  }
 ],
 "metadata": {
  "kernelspec": {
   "display_name": "plot_venv",
   "language": "python",
   "name": "python3"
  },
  "language_info": {
   "codemirror_mode": {
    "name": "ipython",
    "version": 3
   },
   "file_extension": ".py",
   "mimetype": "text/x-python",
   "name": "python",
   "nbconvert_exporter": "python",
   "pygments_lexer": "ipython3",
   "version": "3.11.9"
  }
 },
 "nbformat": 4,
 "nbformat_minor": 5
}
