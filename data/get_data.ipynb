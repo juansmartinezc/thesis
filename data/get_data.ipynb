{
 "cells": [
  {
   "cell_type": "code",
   "execution_count": 1,
   "metadata": {},
   "outputs": [],
   "source": [
    "import requests\n",
    "import pandas as pd\n",
    "import json"
   ]
  },
  {
   "cell_type": "markdown",
   "metadata": {},
   "source": [
    "## Variables de entorno, colocar en un .ENV"
   ]
  },
  {
   "cell_type": "code",
   "execution_count": null,
   "metadata": {},
   "outputs": [],
   "source": [
    "USDA_API_KEY = \"12F1F802-DE5D-3990-B649-6CC02E679BFC\""
   ]
  },
  {
   "cell_type": "markdown",
   "metadata": {},
   "source": [
    "## Obtener la data de nwcc (national water and climate center) de las 200 antendas de la red SCAN. Una red centrada en lo puntos de cultivos de USA."
   ]
  },
  {
   "cell_type": "code",
   "execution_count": null,
   "metadata": {},
   "outputs": [],
   "source": [
    "# URL del endpoint\n",
    "url = \"https://wcc.sc.egov.usda.gov/awdbRestApi/services/v1/stations\"\n",
    "\n",
    "NETWORK = \"SCAN\"\n",
    "\n",
    "try:\n",
    "    response = requests.get(url)\n",
    "\n",
    "    # Verificar si la solicitud fue exitosa (código 200)\n",
    "    if response.status_code == 200:\n",
    "        data = response.json()\n",
    "        stations_df = pd.DataFrame(data)\n",
    "        stations_df = stations_df[stations_df['networkCode'] == 'SCAN'] \n",
    "        \n",
    "        #print(data)\n",
    "    else:\n",
    "        print(f\"Error en la solicitud: {response.status_code} - {response.text}\")\n",
    "\n",
    "except Exception as e:\n",
    "    print(f\"Ocurrió un error: {e}\")\n"
   ]
  },
  {
   "cell_type": "code",
   "execution_count": 4,
   "metadata": {},
   "outputs": [],
   "source": [
    "stations_df.to_csv('stations.csv')"
   ]
  },
  {
   "cell_type": "markdown",
   "metadata": {},
   "source": [
    "## Obtencion de los datos de rendimiento de maiz desde el año 2013 a 2020 en Iowa "
   ]
  },
  {
   "cell_type": "code",
   "execution_count": 3,
   "metadata": {},
   "outputs": [
    {
     "name": "stdout",
     "output_type": "stream",
     "text": [
      "Datos guardados en corn yield df\n"
     ]
    }
   ],
   "source": [
    "# Definir la URL de la API\n",
    "url = (\n",
    "    f\"https://quickstats.nass.usda.gov/api/api_GET/?key={USDA_API_KEY}\"\n",
    "    \"&source_desc=SURVEY\"\n",
    "    \"&sector_desc=CROPS\"\n",
    "    \"&group_desc=FIELD CROPS\"\n",
    "    \"&commodity_desc=CORN\"\n",
    "    \"&statisticcat_desc=YIELD\"\n",
    "    \"&year__GE=2013\"\n",
    "    \"&year__LT=2020\"\n",
    "    \"&agg_level_desc=STATE\"\n",
    "    \"&unit_desc=BU / ACRE\"\n",
    "    \"&state_alpha=IA\"\n",
    ")\n",
    "\n",
    "# Realizar la solicitud GET a la API\n",
    "response = requests.get(url)\n",
    "\n",
    "# Verificar el estado de la respuesta\n",
    "if response.status_code == 200:\n",
    "    data = response.json()\n",
    "    corn_yield_df = pd.DataFrame(data['data'])\n",
    "    # Guardar los datos en un archivo JSON\n",
    "    print(\"Datos guardados en corn yield df\")\n",
    "else:\n",
    "    print(f\"Error en la solicitud: {response.status_code}\")\n"
   ]
  },
  {
   "cell_type": "markdown",
   "metadata": {},
   "source": [
    "## Obtener los datos de una estacion en especifico"
   ]
  },
  {
   "cell_type": "code",
   "execution_count": 36,
   "metadata": {},
   "outputs": [
    {
     "name": "stdout",
     "output_type": "stream",
     "text": [
      "Datos de temperatura guardados en temperature_AL.json\n",
      "         date  temperature_F\n",
      "0  2025-02-19           27.0\n",
      "1  2025-02-20           20.5\n",
      "2  2025-02-21           25.2\n",
      "3  2025-02-22           30.6\n",
      "4  2025-02-23           35.8\n",
      "5  2025-02-24           44.6\n"
     ]
    }
   ],
   "source": [
    "\n",
    "url_awdb = (\n",
    "    \"https://wcc.sc.egov.usda.gov/awdbRestApi/services/v1/data\"\n",
    "    \"?stationTriplets=2057:AL:SCAN\"\n",
    "    \"&elements=TAVG, TMAX, TMIN\"\n",
    "    \"&duration=DAILY\"\n",
    "    \"&beginDate=2025-02-19\"\n",
    "    \"&endDate=2025-02-25\"\n",
    "    \"&returnFlags=true\"\n",
    "    \"&returnOriginalValues=true\"\n",
    "    \"&returnSuspectData=true\"\n",
    ")\n",
    "# Realizar la solicitud GET a la API AWDB\n",
    "response_awdb = requests.get(url_awdb)\n",
    "if response_awdb.status_code == 200:\n",
    "    data_awdb = response_awdb.json()\n",
    "    with open(\"temperature_AL.json\", \"w\") as f:\n",
    "        json.dump(data_awdb, f, indent=4)\n",
    "    print(\"Datos de temperatura guardados en temperature_AL.json\")\n",
    "    values = data_awdb[0]['data'][0]['values']\n",
    "    df = pd.DataFrame(values)\n",
    "    df = df[['date', 'value']]\n",
    "    df.rename(columns={'value': 'temperature_F'}, inplace=True)\n",
    "    print(df)\n",
    "else:\n",
    "    print(f\"Error en la solicitud AWDB: {response_awdb.status_code}\")\n"
   ]
  }
 ],
 "metadata": {
  "kernelspec": {
   "display_name": "venv",
   "language": "python",
   "name": "python3"
  },
  "language_info": {
   "codemirror_mode": {
    "name": "ipython",
    "version": 3
   },
   "file_extension": ".py",
   "mimetype": "text/x-python",
   "name": "python",
   "nbconvert_exporter": "python",
   "pygments_lexer": "ipython3",
   "version": "3.11.9"
  }
 },
 "nbformat": 4,
 "nbformat_minor": 2
}
